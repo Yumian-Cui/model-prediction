{
  "nbformat": 4,
  "nbformat_minor": 0,
  "metadata": {
    "colab": {
      "name": "DataChallenge_code_Final.ipynb",
      "provenance": [],
      "collapsed_sections": [
        "9UFMaG2ERXsX"
      ],
      "include_colab_link": true
    },
    "kernelspec": {
      "name": "python3",
      "display_name": "Python 3"
    }
  },
  "cells": [
    {
      "cell_type": "markdown",
      "metadata": {
        "id": "view-in-github",
        "colab_type": "text"
      },
      "source": [
        "<a href=\"https://colab.research.google.com/github/Yumian-Cui/model-prediction/blob/main/DataChallenge_code_Final.ipynb\" target=\"_parent\"><img src=\"https://colab.research.google.com/assets/colab-badge.svg\" alt=\"Open In Colab\"/></a>"
      ]
    },
    {
      "cell_type": "markdown",
      "metadata": {
        "id": "HrGDd5ADSBal"
      },
      "source": [
        "# Heart Failure Death prediction"
      ]
    },
    {
      "cell_type": "markdown",
      "metadata": {
        "id": "XaT60phIRJ5M"
      },
      "source": [
        "[Dataset file: download to drive folder](https://drive.google.com/file/d/1XwYXWSKl57Tl_zQOE5plMRYce_tx1KDJ/view?usp=sharing)"
      ]
    },
    {
      "cell_type": "markdown",
      "metadata": {
        "id": "9UFMaG2ERXsX"
      },
      "source": [
        "# Prep / Initialization"
      ]
    },
    {
      "cell_type": "code",
      "metadata": {
        "id": "M5kddOywQwB6"
      },
      "source": [
        "!pip install -U -q PyDrive\n",
        "\n",
        "from pydrive.auth import GoogleAuth\n",
        "from pydrive.drive import GoogleDrive\n",
        "from google.colab import auth\n",
        "from oauth2client.client import GoogleCredentials\n",
        "\n",
        "auth.authenticate_user()\n",
        "gauth = GoogleAuth()\n",
        "gauth.credentials = GoogleCredentials.get_application_default()\n",
        "drive = GoogleDrive(gauth)"
      ],
      "execution_count": null,
      "outputs": []
    },
    {
      "cell_type": "code",
      "metadata": {
        "id": "vCHGFoYzRj-g"
      },
      "source": [
        "id = \"19Zq2CdahvWALmCKspE8AYnwNZ3mikBda\"\n",
        "file = drive.CreateFile({'id':id}) \n",
        "file.GetContentFile('df') "
      ],
      "execution_count": null,
      "outputs": []
    },
    {
      "cell_type": "code",
      "metadata": {
        "id": "W7BqcPNtRrFV",
        "colab": {
          "base_uri": "https://localhost:8080/"
        },
        "outputId": "68f42270-4b31-4713-82cf-bedfc66a46e5"
      },
      "source": [
        "import pandas as pd\n",
        "\n",
        "health_df = pd.read_csv('df')\n",
        "health_df.head()"
      ],
      "execution_count": null,
      "outputs": [
        {
          "output_type": "execute_result",
          "data": {
            "text/html": [
              "<div>\n",
              "<style scoped>\n",
              "    .dataframe tbody tr th:only-of-type {\n",
              "        vertical-align: middle;\n",
              "    }\n",
              "\n",
              "    .dataframe tbody tr th {\n",
              "        vertical-align: top;\n",
              "    }\n",
              "\n",
              "    .dataframe thead th {\n",
              "        text-align: right;\n",
              "    }\n",
              "</style>\n",
              "<table border=\"1\" class=\"dataframe\">\n",
              "  <thead>\n",
              "    <tr style=\"text-align: right;\">\n",
              "      <th></th>\n",
              "      <th>Unnamed: 0</th>\n",
              "      <th>age</th>\n",
              "      <th>anaemia</th>\n",
              "      <th>creatinine_phosphokinase</th>\n",
              "      <th>diabetes</th>\n",
              "      <th>ejection_fraction</th>\n",
              "      <th>high_blood_pressure</th>\n",
              "      <th>platelets</th>\n",
              "      <th>serum_creatinine</th>\n",
              "      <th>serum_sodium</th>\n",
              "      <th>sex</th>\n",
              "      <th>smoking</th>\n",
              "      <th>time</th>\n",
              "      <th>DEATH_EVENT</th>\n",
              "    </tr>\n",
              "  </thead>\n",
              "  <tbody>\n",
              "    <tr>\n",
              "      <th>0</th>\n",
              "      <td>179</td>\n",
              "      <td>63.0</td>\n",
              "      <td>1</td>\n",
              "      <td>122</td>\n",
              "      <td>1</td>\n",
              "      <td>60</td>\n",
              "      <td>0</td>\n",
              "      <td>267000.0</td>\n",
              "      <td>1.2</td>\n",
              "      <td>145</td>\n",
              "      <td>1</td>\n",
              "      <td>0</td>\n",
              "      <td>147</td>\n",
              "      <td>0</td>\n",
              "    </tr>\n",
              "    <tr>\n",
              "      <th>1</th>\n",
              "      <td>14</td>\n",
              "      <td>50.0</td>\n",
              "      <td>1</td>\n",
              "      <td>168</td>\n",
              "      <td>0</td>\n",
              "      <td>38</td>\n",
              "      <td>1</td>\n",
              "      <td>276000.0</td>\n",
              "      <td>1.1</td>\n",
              "      <td>137</td>\n",
              "      <td>1</td>\n",
              "      <td>0</td>\n",
              "      <td>11</td>\n",
              "      <td>1</td>\n",
              "    </tr>\n",
              "    <tr>\n",
              "      <th>2</th>\n",
              "      <td>195</td>\n",
              "      <td>45.0</td>\n",
              "      <td>0</td>\n",
              "      <td>582</td>\n",
              "      <td>0</td>\n",
              "      <td>20</td>\n",
              "      <td>1</td>\n",
              "      <td>126000.0</td>\n",
              "      <td>1.6</td>\n",
              "      <td>135</td>\n",
              "      <td>1</td>\n",
              "      <td>0</td>\n",
              "      <td>180</td>\n",
              "      <td>1</td>\n",
              "    </tr>\n",
              "    <tr>\n",
              "      <th>3</th>\n",
              "      <td>118</td>\n",
              "      <td>85.0</td>\n",
              "      <td>1</td>\n",
              "      <td>102</td>\n",
              "      <td>0</td>\n",
              "      <td>60</td>\n",
              "      <td>0</td>\n",
              "      <td>507000.0</td>\n",
              "      <td>3.2</td>\n",
              "      <td>138</td>\n",
              "      <td>0</td>\n",
              "      <td>0</td>\n",
              "      <td>94</td>\n",
              "      <td>0</td>\n",
              "    </tr>\n",
              "    <tr>\n",
              "      <th>4</th>\n",
              "      <td>229</td>\n",
              "      <td>65.0</td>\n",
              "      <td>0</td>\n",
              "      <td>56</td>\n",
              "      <td>0</td>\n",
              "      <td>25</td>\n",
              "      <td>0</td>\n",
              "      <td>237000.0</td>\n",
              "      <td>5.0</td>\n",
              "      <td>130</td>\n",
              "      <td>0</td>\n",
              "      <td>0</td>\n",
              "      <td>207</td>\n",
              "      <td>0</td>\n",
              "    </tr>\n",
              "  </tbody>\n",
              "</table>\n",
              "</div>"
            ],
            "text/plain": [
              "   Unnamed: 0   age  anaemia  ...  smoking  time  DEATH_EVENT\n",
              "0         179  63.0        1  ...        0   147            0\n",
              "1          14  50.0        1  ...        0    11            1\n",
              "2         195  45.0        0  ...        0   180            1\n",
              "3         118  85.0        1  ...        0    94            0\n",
              "4         229  65.0        0  ...        0   207            0\n",
              "\n",
              "[5 rows x 14 columns]"
            ]
          },
          "metadata": {
            "tags": []
          },
          "execution_count": 35
        }
      ]
    },
    {
      "cell_type": "markdown",
      "metadata": {
        "id": "--cyMdbRSYkI"
      },
      "source": [
        "# Part I: Data exploration"
      ]
    },
    {
      "cell_type": "code",
      "metadata": {
        "id": "elPqtRy0R3El",
        "colab": {
          "base_uri": "https://localhost:8080/",
          "height": 374
        },
        "outputId": "c10c32d2-0ca3-4324-8008-7e725495acc9"
      },
      "source": [
        "health_df.info()"
      ],
      "execution_count": null,
      "outputs": [
        {
          "output_type": "stream",
          "text": [
            "<class 'pandas.core.frame.DataFrame'>\n",
            "RangeIndex: 270 entries, 0 to 269\n",
            "Data columns (total 14 columns):\n",
            " #   Column                    Non-Null Count  Dtype  \n",
            "---  ------                    --------------  -----  \n",
            " 0   Unnamed: 0                270 non-null    int64  \n",
            " 1   age                       270 non-null    float64\n",
            " 2   anaemia                   270 non-null    int64  \n",
            " 3   creatinine_phosphokinase  270 non-null    int64  \n",
            " 4   diabetes                  270 non-null    int64  \n",
            " 5   ejection_fraction         270 non-null    int64  \n",
            " 6   high_blood_pressure       270 non-null    int64  \n",
            " 7   platelets                 270 non-null    float64\n",
            " 8   serum_creatinine          270 non-null    float64\n",
            " 9   serum_sodium              270 non-null    int64  \n",
            " 10  sex                       270 non-null    int64  \n",
            " 11  smoking                   270 non-null    int64  \n",
            " 12  time                      270 non-null    int64  \n",
            " 13  DEATH_EVENT               270 non-null    int64  \n",
            "dtypes: float64(3), int64(11)\n",
            "memory usage: 29.7 KB\n"
          ],
          "name": "stdout"
        }
      ]
    },
    {
      "cell_type": "code",
      "metadata": {
        "id": "eGpXL4w3SjAe",
        "colab": {
          "base_uri": "https://localhost:8080/",
          "height": 272
        },
        "outputId": "3d5bfb8f-e940-45d3-c23a-1653634c88e4"
      },
      "source": [
        "#check the unique values for each variable, from here we can preliminarily tell variables from discrete to continuous\n",
        "health_df.nunique()"
      ],
      "execution_count": null,
      "outputs": [
        {
          "output_type": "execute_result",
          "data": {
            "text/plain": [
              "Unnamed: 0                  270\n",
              "age                          46\n",
              "anaemia                       2\n",
              "creatinine_phosphokinase    193\n",
              "diabetes                      2\n",
              "ejection_fraction            17\n",
              "high_blood_pressure           2\n",
              "platelets                   169\n",
              "serum_creatinine             39\n",
              "serum_sodium                 27\n",
              "sex                           2\n",
              "smoking                       2\n",
              "time                        139\n",
              "DEATH_EVENT                   2\n",
              "dtype: int64"
            ]
          },
          "metadata": {
            "tags": []
          },
          "execution_count": 37
        }
      ]
    },
    {
      "cell_type": "code",
      "metadata": {
        "id": "SdyngLDDSmIS",
        "colab": {
          "base_uri": "https://localhost:8080/",
          "height": 272
        },
        "outputId": "040fee6e-d526-429c-efb4-974b1cdf8e31"
      },
      "source": [
        "# see if there's any missing values, no missing value -> then proceed\n",
        "health_df.isnull().sum()"
      ],
      "execution_count": null,
      "outputs": [
        {
          "output_type": "execute_result",
          "data": {
            "text/plain": [
              "Unnamed: 0                  0\n",
              "age                         0\n",
              "anaemia                     0\n",
              "creatinine_phosphokinase    0\n",
              "diabetes                    0\n",
              "ejection_fraction           0\n",
              "high_blood_pressure         0\n",
              "platelets                   0\n",
              "serum_creatinine            0\n",
              "serum_sodium                0\n",
              "sex                         0\n",
              "smoking                     0\n",
              "time                        0\n",
              "DEATH_EVENT                 0\n",
              "dtype: int64"
            ]
          },
          "metadata": {
            "tags": []
          },
          "execution_count": 38
        }
      ]
    },
    {
      "cell_type": "code",
      "metadata": {
        "id": "R_LoFvYcSssA",
        "colab": {
          "base_uri": "https://localhost:8080/",
          "height": 224
        },
        "outputId": "0efd2270-edd2-4e6f-ba91-35f0c8d8a901"
      },
      "source": [
        "#Drop the unrelated variable\n",
        "#Unnamed column: Patient ID, irrelevant, so can take it out for our analysis\n",
        "health_df.drop([health_df.columns[0]], axis = 1, inplace=True)\n",
        "health_df.head()"
      ],
      "execution_count": null,
      "outputs": [
        {
          "output_type": "execute_result",
          "data": {
            "text/html": [
              "<div>\n",
              "<style scoped>\n",
              "    .dataframe tbody tr th:only-of-type {\n",
              "        vertical-align: middle;\n",
              "    }\n",
              "\n",
              "    .dataframe tbody tr th {\n",
              "        vertical-align: top;\n",
              "    }\n",
              "\n",
              "    .dataframe thead th {\n",
              "        text-align: right;\n",
              "    }\n",
              "</style>\n",
              "<table border=\"1\" class=\"dataframe\">\n",
              "  <thead>\n",
              "    <tr style=\"text-align: right;\">\n",
              "      <th></th>\n",
              "      <th>age</th>\n",
              "      <th>anaemia</th>\n",
              "      <th>creatinine_phosphokinase</th>\n",
              "      <th>diabetes</th>\n",
              "      <th>ejection_fraction</th>\n",
              "      <th>high_blood_pressure</th>\n",
              "      <th>platelets</th>\n",
              "      <th>serum_creatinine</th>\n",
              "      <th>serum_sodium</th>\n",
              "      <th>sex</th>\n",
              "      <th>smoking</th>\n",
              "      <th>time</th>\n",
              "      <th>DEATH_EVENT</th>\n",
              "    </tr>\n",
              "  </thead>\n",
              "  <tbody>\n",
              "    <tr>\n",
              "      <th>0</th>\n",
              "      <td>63.0</td>\n",
              "      <td>1</td>\n",
              "      <td>122</td>\n",
              "      <td>1</td>\n",
              "      <td>60</td>\n",
              "      <td>0</td>\n",
              "      <td>267000.0</td>\n",
              "      <td>1.2</td>\n",
              "      <td>145</td>\n",
              "      <td>1</td>\n",
              "      <td>0</td>\n",
              "      <td>147</td>\n",
              "      <td>0</td>\n",
              "    </tr>\n",
              "    <tr>\n",
              "      <th>1</th>\n",
              "      <td>50.0</td>\n",
              "      <td>1</td>\n",
              "      <td>168</td>\n",
              "      <td>0</td>\n",
              "      <td>38</td>\n",
              "      <td>1</td>\n",
              "      <td>276000.0</td>\n",
              "      <td>1.1</td>\n",
              "      <td>137</td>\n",
              "      <td>1</td>\n",
              "      <td>0</td>\n",
              "      <td>11</td>\n",
              "      <td>1</td>\n",
              "    </tr>\n",
              "    <tr>\n",
              "      <th>2</th>\n",
              "      <td>45.0</td>\n",
              "      <td>0</td>\n",
              "      <td>582</td>\n",
              "      <td>0</td>\n",
              "      <td>20</td>\n",
              "      <td>1</td>\n",
              "      <td>126000.0</td>\n",
              "      <td>1.6</td>\n",
              "      <td>135</td>\n",
              "      <td>1</td>\n",
              "      <td>0</td>\n",
              "      <td>180</td>\n",
              "      <td>1</td>\n",
              "    </tr>\n",
              "    <tr>\n",
              "      <th>3</th>\n",
              "      <td>85.0</td>\n",
              "      <td>1</td>\n",
              "      <td>102</td>\n",
              "      <td>0</td>\n",
              "      <td>60</td>\n",
              "      <td>0</td>\n",
              "      <td>507000.0</td>\n",
              "      <td>3.2</td>\n",
              "      <td>138</td>\n",
              "      <td>0</td>\n",
              "      <td>0</td>\n",
              "      <td>94</td>\n",
              "      <td>0</td>\n",
              "    </tr>\n",
              "    <tr>\n",
              "      <th>4</th>\n",
              "      <td>65.0</td>\n",
              "      <td>0</td>\n",
              "      <td>56</td>\n",
              "      <td>0</td>\n",
              "      <td>25</td>\n",
              "      <td>0</td>\n",
              "      <td>237000.0</td>\n",
              "      <td>5.0</td>\n",
              "      <td>130</td>\n",
              "      <td>0</td>\n",
              "      <td>0</td>\n",
              "      <td>207</td>\n",
              "      <td>0</td>\n",
              "    </tr>\n",
              "  </tbody>\n",
              "</table>\n",
              "</div>"
            ],
            "text/plain": [
              "    age  anaemia  creatinine_phosphokinase  ...  smoking  time  DEATH_EVENT\n",
              "0  63.0        1                       122  ...        0   147            0\n",
              "1  50.0        1                       168  ...        0    11            1\n",
              "2  45.0        0                       582  ...        0   180            1\n",
              "3  85.0        1                       102  ...        0    94            0\n",
              "4  65.0        0                        56  ...        0   207            0\n",
              "\n",
              "[5 rows x 13 columns]"
            ]
          },
          "metadata": {
            "tags": []
          },
          "execution_count": 39
        }
      ]
    },
    {
      "cell_type": "code",
      "metadata": {
        "id": "Xi3DjNpeSwil",
        "colab": {
          "base_uri": "https://localhost:8080/",
          "height": 297
        },
        "outputId": "86d7baa6-2f64-4d08-d902-eeee80242786"
      },
      "source": [
        "# understand numerical feature\n",
        "health_df[[\"age\",\"creatinine_phosphokinase\",\"ejection_fraction\",\"platelets\",\"serum_creatinine\",\"serum_sodium\",\"time\"]].describe()"
      ],
      "execution_count": null,
      "outputs": [
        {
          "output_type": "execute_result",
          "data": {
            "text/html": [
              "<div>\n",
              "<style scoped>\n",
              "    .dataframe tbody tr th:only-of-type {\n",
              "        vertical-align: middle;\n",
              "    }\n",
              "\n",
              "    .dataframe tbody tr th {\n",
              "        vertical-align: top;\n",
              "    }\n",
              "\n",
              "    .dataframe thead th {\n",
              "        text-align: right;\n",
              "    }\n",
              "</style>\n",
              "<table border=\"1\" class=\"dataframe\">\n",
              "  <thead>\n",
              "    <tr style=\"text-align: right;\">\n",
              "      <th></th>\n",
              "      <th>age</th>\n",
              "      <th>creatinine_phosphokinase</th>\n",
              "      <th>ejection_fraction</th>\n",
              "      <th>platelets</th>\n",
              "      <th>serum_creatinine</th>\n",
              "      <th>serum_sodium</th>\n",
              "      <th>time</th>\n",
              "    </tr>\n",
              "  </thead>\n",
              "  <tbody>\n",
              "    <tr>\n",
              "      <th>count</th>\n",
              "      <td>270.000000</td>\n",
              "      <td>270.000000</td>\n",
              "      <td>270.000000</td>\n",
              "      <td>270.000000</td>\n",
              "      <td>270.000000</td>\n",
              "      <td>270.000000</td>\n",
              "      <td>270.000000</td>\n",
              "    </tr>\n",
              "    <tr>\n",
              "      <th>mean</th>\n",
              "      <td>60.639507</td>\n",
              "      <td>597.674074</td>\n",
              "      <td>38.240741</td>\n",
              "      <td>264016.054407</td>\n",
              "      <td>1.406889</td>\n",
              "      <td>136.670370</td>\n",
              "      <td>129.388889</td>\n",
              "    </tr>\n",
              "    <tr>\n",
              "      <th>std</th>\n",
              "      <td>11.754936</td>\n",
              "      <td>1007.037547</td>\n",
              "      <td>12.015379</td>\n",
              "      <td>97577.471257</td>\n",
              "      <td>1.074922</td>\n",
              "      <td>4.488591</td>\n",
              "      <td>77.380635</td>\n",
              "    </tr>\n",
              "    <tr>\n",
              "      <th>min</th>\n",
              "      <td>40.000000</td>\n",
              "      <td>23.000000</td>\n",
              "      <td>14.000000</td>\n",
              "      <td>25100.000000</td>\n",
              "      <td>0.500000</td>\n",
              "      <td>113.000000</td>\n",
              "      <td>4.000000</td>\n",
              "    </tr>\n",
              "    <tr>\n",
              "      <th>25%</th>\n",
              "      <td>51.000000</td>\n",
              "      <td>115.750000</td>\n",
              "      <td>30.000000</td>\n",
              "      <td>213500.000000</td>\n",
              "      <td>0.900000</td>\n",
              "      <td>134.000000</td>\n",
              "      <td>72.250000</td>\n",
              "    </tr>\n",
              "    <tr>\n",
              "      <th>50%</th>\n",
              "      <td>60.000000</td>\n",
              "      <td>251.500000</td>\n",
              "      <td>38.000000</td>\n",
              "      <td>263179.015000</td>\n",
              "      <td>1.100000</td>\n",
              "      <td>137.000000</td>\n",
              "      <td>114.000000</td>\n",
              "    </tr>\n",
              "    <tr>\n",
              "      <th>75%</th>\n",
              "      <td>69.750000</td>\n",
              "      <td>582.000000</td>\n",
              "      <td>45.000000</td>\n",
              "      <td>303750.000000</td>\n",
              "      <td>1.400000</td>\n",
              "      <td>140.000000</td>\n",
              "      <td>200.750000</td>\n",
              "    </tr>\n",
              "    <tr>\n",
              "      <th>max</th>\n",
              "      <td>95.000000</td>\n",
              "      <td>7861.000000</td>\n",
              "      <td>80.000000</td>\n",
              "      <td>850000.000000</td>\n",
              "      <td>9.400000</td>\n",
              "      <td>148.000000</td>\n",
              "      <td>280.000000</td>\n",
              "    </tr>\n",
              "  </tbody>\n",
              "</table>\n",
              "</div>"
            ],
            "text/plain": [
              "              age  creatinine_phosphokinase  ...  serum_sodium        time\n",
              "count  270.000000                270.000000  ...    270.000000  270.000000\n",
              "mean    60.639507                597.674074  ...    136.670370  129.388889\n",
              "std     11.754936               1007.037547  ...      4.488591   77.380635\n",
              "min     40.000000                 23.000000  ...    113.000000    4.000000\n",
              "25%     51.000000                115.750000  ...    134.000000   72.250000\n",
              "50%     60.000000                251.500000  ...    137.000000  114.000000\n",
              "75%     69.750000                582.000000  ...    140.000000  200.750000\n",
              "max     95.000000               7861.000000  ...    148.000000  280.000000\n",
              "\n",
              "[8 rows x 7 columns]"
            ]
          },
          "metadata": {
            "tags": []
          },
          "execution_count": 40
        }
      ]
    },
    {
      "cell_type": "code",
      "metadata": {
        "id": "4Cfgy6o2S0sO"
      },
      "source": [
        "import matplotlib.pyplot as plt\n",
        "import seaborn as sns"
      ],
      "execution_count": null,
      "outputs": []
    },
    {
      "cell_type": "code",
      "metadata": {
        "id": "GaHn9BF9S5Ld",
        "colab": {
          "base_uri": "https://localhost:8080/",
          "height": 606
        },
        "outputId": "7f07c552-68af-4e85-f59d-29f7de87146a"
      },
      "source": [
        "# boxplot for numerical feature\n",
        "# \"age\",\"creatinine_phosphokinase\",\"ejection_fraction\",\"platelets\",\"serum_creatinine\",\"serum_sodium\",\"time\"\n",
        "_,axss = plt.subplots(2,4, figsize=[20,10])\n",
        "sns.boxplot(x='DEATH_EVENT', y ='age', data=health_df, ax=axss[0][0])\n",
        "sns.boxplot(x='DEATH_EVENT', y ='creatinine_phosphokinase', data=health_df, ax=axss[0][1])\n",
        "sns.boxplot(x='DEATH_EVENT', y ='ejection_fraction', data=health_df, ax=axss[0][2])\n",
        "sns.boxplot(x='DEATH_EVENT', y ='platelets', data=health_df, ax=axss[0][3])\n",
        "sns.boxplot(x='DEATH_EVENT', y ='serum_creatinine', data=health_df, ax=axss[1][0])\n",
        "sns.boxplot(x='DEATH_EVENT', y ='serum_sodium', data=health_df, ax=axss[1][1])\n",
        "sns.boxplot(x='DEATH_EVENT', y ='time', data=health_df, ax=axss[1][2])\n",
        "\n",
        "_.delaxes(axss[1,3])"
      ],
      "execution_count": null,
      "outputs": [
        {
          "output_type": "display_data",
          "data": {
            "image/png": "[encoded data removed]",
            "text/plain": [
              "<Figure size 1440x720 with 7 Axes>"
            ]
          },
          "metadata": {
            "tags": [],
            "needs_background": "light"
          }
        }
      ]
    },
    {
      "cell_type": "code",
      "metadata": {
        "id": "C0-Y9CU8wvpV",
        "colab": {
          "base_uri": "https://localhost:8080/",
          "height": 187
        },
        "outputId": "dd295a29-1082-4373-ad1e-2925a07527d0"
      },
      "source": [
        "#get rid of the outliers\n",
        "var_list = [health_df.age, health_df.creatinine_phosphokinase, health_df.ejection_fraction,health_df.platelets, health_df.serum_creatinine, health_df.serum_sodium,health_df.time]\n",
        "for var in var_list:\n",
        "  var_75 = var.describe()['75%']\n",
        "  var_25 = var.describe()['25%']\n",
        "  var_min = var.describe()['min']\n",
        "  var_max = var.describe()['max']\n",
        "  diff = var_75 - var_25\n",
        "  new_max = var_75 + 1.5 * diff\n",
        "  new_min = var_25 - 1.5 * diff\n",
        "  if new_max < var_max:\n",
        "    health_df = health_df[var <= new_max] \n",
        "  if new_min > var_min:\n",
        "    health_df = health_df[var >= new_min]\n",
        "  #print(var.describe())"
      ],
      "execution_count": null,
      "outputs": [
        {
          "output_type": "stream",
          "text": [
            "/usr/local/lib/python3.6/dist-packages/ipykernel_launcher.py:13: UserWarning: Boolean Series key will be reindexed to match DataFrame index.\n",
            "  del sys.path[0]\n",
            "/usr/local/lib/python3.6/dist-packages/ipykernel_launcher.py:13: UserWarning: Boolean Series key will be reindexed to match DataFrame index.\n",
            "  del sys.path[0]\n",
            "/usr/local/lib/python3.6/dist-packages/ipykernel_launcher.py:15: UserWarning: Boolean Series key will be reindexed to match DataFrame index.\n",
            "  from ipykernel import kernelapp as app\n",
            "/usr/local/lib/python3.6/dist-packages/ipykernel_launcher.py:13: UserWarning: Boolean Series key will be reindexed to match DataFrame index.\n",
            "  del sys.path[0]\n",
            "/usr/local/lib/python3.6/dist-packages/ipykernel_launcher.py:15: UserWarning: Boolean Series key will be reindexed to match DataFrame index.\n",
            "  from ipykernel import kernelapp as app\n"
          ],
          "name": "stderr"
        }
      ]
    },
    {
      "cell_type": "code",
      "metadata": {
        "id": "szOT7KjVS78S",
        "colab": {
          "base_uri": "https://localhost:8080/",
          "height": 606
        },
        "outputId": "f9c37057-cb05-4910-8612-d2d06791cea1"
      },
      "source": [
        "#understand categorical feature\n",
        "# [\"anaemia\",\"diabetes\",\"high_blood_pressure\",\"sex\",\"smoking\"]\n",
        "_,axss = plt.subplots(2,3, figsize=[20,10])\n",
        "sns.countplot(x='DEATH_EVENT', hue =\"anaemia\", data=health_df, ax=axss[0][0])\n",
        "sns.countplot(x='DEATH_EVENT', hue =\"diabetes\", data=health_df, ax=axss[0][1])\n",
        "sns.countplot(x='DEATH_EVENT', hue =\"high_blood_pressure\", data=health_df, ax=axss[0][2])\n",
        "sns.countplot(x='DEATH_EVENT', hue =\"sex\", data=health_df, ax=axss[1][0])\n",
        "sns.countplot(x='DEATH_EVENT', hue =\"smoking\", data=health_df, ax=axss[1][1]) #0->smoker,1->non-smoker\n",
        "\n",
        "_.delaxes(axss[1,2])"
      ],
      "execution_count": null,
      "outputs": [
        {
          "output_type": "display_data",
          "data": {
            "image/png": "[encoded data removed]",
            "text/plain": [
              "<Figure size 1440x720 with 5 Axes>"
            ]
          },
          "metadata": {
            "tags": [],
            "needs_background": "light"
          }
        }
      ]
    },
    {
      "cell_type": "code",
      "metadata": {
        "id": "2jUziyAjTB3L",
        "colab": {
          "base_uri": "https://localhost:8080/",
          "height": 51
        },
        "outputId": "873cb86d-40d8-4dc8-f7b9-d3fc3772b557"
      },
      "source": [
        "# Get target variable\n",
        "# save target variable to y\n",
        "y = health_df['DEATH_EVENT']\n",
        "print(y.shape)\n",
        "# check the propotion where y = 1,so the percentage of death rate due to heart failure = 32.59%\n",
        "print(y.sum() / y.shape[0] * 100)"
      ],
      "execution_count": null,
      "outputs": [
        {
          "output_type": "stream",
          "text": [
            "(203,)\n",
            "27.586206896551722\n"
          ],
          "name": "stdout"
        }
      ]
    },
    {
      "cell_type": "code",
      "metadata": {
        "id": "DFxi7zBzTaRs",
        "colab": {
          "base_uri": "https://localhost:8080/",
          "height": 204
        },
        "outputId": "b5d4bbb0-a685-4b34-eadf-8c2ba872dbb4"
      },
      "source": [
        "# drop unnecessary columns + target variable column\n",
        "X = health_df.drop([\"DEATH_EVENT\"],axis=1)\n",
        "X.head()"
      ],
      "execution_count": null,
      "outputs": [
        {
          "output_type": "execute_result",
          "data": {
            "text/html": [
              "<div>\n",
              "<style scoped>\n",
              "    .dataframe tbody tr th:only-of-type {\n",
              "        vertical-align: middle;\n",
              "    }\n",
              "\n",
              "    .dataframe tbody tr th {\n",
              "        vertical-align: top;\n",
              "    }\n",
              "\n",
              "    .dataframe thead th {\n",
              "        text-align: right;\n",
              "    }\n",
              "</style>\n",
              "<table border=\"1\" class=\"dataframe\">\n",
              "  <thead>\n",
              "    <tr style=\"text-align: right;\">\n",
              "      <th></th>\n",
              "      <th>age</th>\n",
              "      <th>anaemia</th>\n",
              "      <th>creatinine_phosphokinase</th>\n",
              "      <th>diabetes</th>\n",
              "      <th>ejection_fraction</th>\n",
              "      <th>high_blood_pressure</th>\n",
              "      <th>platelets</th>\n",
              "      <th>serum_creatinine</th>\n",
              "      <th>serum_sodium</th>\n",
              "      <th>sex</th>\n",
              "      <th>smoking</th>\n",
              "      <th>time</th>\n",
              "    </tr>\n",
              "  </thead>\n",
              "  <tbody>\n",
              "    <tr>\n",
              "      <th>0</th>\n",
              "      <td>63.0</td>\n",
              "      <td>1</td>\n",
              "      <td>122</td>\n",
              "      <td>1</td>\n",
              "      <td>60</td>\n",
              "      <td>0</td>\n",
              "      <td>267000.0</td>\n",
              "      <td>1.2</td>\n",
              "      <td>145</td>\n",
              "      <td>1</td>\n",
              "      <td>0</td>\n",
              "      <td>147</td>\n",
              "    </tr>\n",
              "    <tr>\n",
              "      <th>1</th>\n",
              "      <td>50.0</td>\n",
              "      <td>1</td>\n",
              "      <td>168</td>\n",
              "      <td>0</td>\n",
              "      <td>38</td>\n",
              "      <td>1</td>\n",
              "      <td>276000.0</td>\n",
              "      <td>1.1</td>\n",
              "      <td>137</td>\n",
              "      <td>1</td>\n",
              "      <td>0</td>\n",
              "      <td>11</td>\n",
              "    </tr>\n",
              "    <tr>\n",
              "      <th>2</th>\n",
              "      <td>45.0</td>\n",
              "      <td>0</td>\n",
              "      <td>582</td>\n",
              "      <td>0</td>\n",
              "      <td>20</td>\n",
              "      <td>1</td>\n",
              "      <td>126000.0</td>\n",
              "      <td>1.6</td>\n",
              "      <td>135</td>\n",
              "      <td>1</td>\n",
              "      <td>0</td>\n",
              "      <td>180</td>\n",
              "    </tr>\n",
              "    <tr>\n",
              "      <th>5</th>\n",
              "      <td>73.0</td>\n",
              "      <td>1</td>\n",
              "      <td>1185</td>\n",
              "      <td>0</td>\n",
              "      <td>40</td>\n",
              "      <td>1</td>\n",
              "      <td>220000.0</td>\n",
              "      <td>0.9</td>\n",
              "      <td>141</td>\n",
              "      <td>0</td>\n",
              "      <td>0</td>\n",
              "      <td>213</td>\n",
              "    </tr>\n",
              "    <tr>\n",
              "      <th>7</th>\n",
              "      <td>50.0</td>\n",
              "      <td>0</td>\n",
              "      <td>115</td>\n",
              "      <td>0</td>\n",
              "      <td>45</td>\n",
              "      <td>1</td>\n",
              "      <td>184000.0</td>\n",
              "      <td>0.9</td>\n",
              "      <td>134</td>\n",
              "      <td>1</td>\n",
              "      <td>1</td>\n",
              "      <td>118</td>\n",
              "    </tr>\n",
              "  </tbody>\n",
              "</table>\n",
              "</div>"
            ],
            "text/plain": [
              "    age  anaemia  creatinine_phosphokinase  ...  sex  smoking  time\n",
              "0  63.0        1                       122  ...    1        0   147\n",
              "1  50.0        1                       168  ...    1        0    11\n",
              "2  45.0        0                       582  ...    1        0   180\n",
              "5  73.0        1                      1185  ...    0        0   213\n",
              "7  50.0        0                       115  ...    1        1   118\n",
              "\n",
              "[5 rows x 12 columns]"
            ]
          },
          "metadata": {
            "tags": []
          },
          "execution_count": 46
        }
      ]
    },
    {
      "cell_type": "code",
      "metadata": {
        "id": "h-5rNffAToWj"
      },
      "source": [
        ""
      ],
      "execution_count": null,
      "outputs": []
    },
    {
      "cell_type": "markdown",
      "metadata": {
        "id": "6voXD_eRT1VR"
      },
      "source": [
        "# Part II: Data Modeling"
      ]
    },
    {
      "cell_type": "code",
      "metadata": {
        "id": "ORiy06XfUHtc",
        "colab": {
          "base_uri": "https://localhost:8080/",
          "height": 51
        },
        "outputId": "04252573-91bc-405d-b60b-695d373740a5"
      },
      "source": [
        "# Split data into training and testing\n",
        "from sklearn import model_selection\n",
        "\n",
        "X_train, X_test, y_train, y_test = model_selection.train_test_split(X, y, test_size=0.25, stratify = y, random_state=1)\n",
        "\n",
        "print('training data has ' + str(X_train.shape[0]) + ' observation with ' + str(X_train.shape[1]) + ' features')\n",
        "print('test data has ' + str(X_test.shape[0]) + ' observation with ' + str(X_test.shape[1]) + ' features')"
      ],
      "execution_count": null,
      "outputs": [
        {
          "output_type": "stream",
          "text": [
            "training data has 152 observation with 12 features\n",
            "test data has 51 observation with 12 features\n"
          ],
          "name": "stdout"
        }
      ]
    },
    {
      "cell_type": "code",
      "metadata": {
        "id": "mw1ltdNxWNHg"
      },
      "source": [
        "from sklearn.preprocessing import StandardScaler\n",
        "scaler = StandardScaler()\n",
        "scaler.fit(X_train)\n",
        "X_train = scaler.transform(X_train)\n",
        "X_test = scaler.transform(X_test)"
      ],
      "execution_count": null,
      "outputs": []
    },
    {
      "cell_type": "code",
      "metadata": {
        "id": "O0QDhoNWWW7e"
      },
      "source": [
        "from sklearn.ensemble import RandomForestClassifier\n",
        "from sklearn.neighbors import KNeighborsClassifier \n",
        "from sklearn.linear_model import LogisticRegression\n",
        "\n",
        "# Logistic Regression\n",
        "classifier_logistic = LogisticRegression()\n",
        "\n",
        "# K Nearest Neighbors\n",
        "classifier_KNN = KNeighborsClassifier()\n",
        "\n",
        "# Random Forest\n",
        "classifier_RF = RandomForestClassifier()"
      ],
      "execution_count": null,
      "outputs": []
    },
    {
      "cell_type": "code",
      "metadata": {
        "id": "s5qhTCX6WZFH",
        "colab": {
          "base_uri": "https://localhost:8080/",
          "height": 119
        },
        "outputId": "9757eb0e-888c-420c-d698-ea6e33f127d8"
      },
      "source": [
        "model_names = ['Logistic Regression','KNN','Random Forest']\n",
        "model_list = [classifier_logistic, classifier_KNN, classifier_RF]\n",
        "count = 0\n",
        "\n",
        "for classifier in model_list:\n",
        "    cv_score = model_selection.cross_val_score(classifier, X_train, y_train, cv=5)\n",
        "    print(cv_score)\n",
        "    print('Model accuracy of ' + model_names[count] + ' is ' + str(cv_score.mean()))\n",
        "    count += 1"
      ],
      "execution_count": null,
      "outputs": [
        {
          "output_type": "stream",
          "text": [
            "[0.80645161 0.83870968 0.86666667 0.83333333 0.83333333]\n",
            "Model accuracy of Logistic Regression is 0.8356989247311828\n",
            "[0.70967742 0.70967742 0.83333333 0.73333333 0.76666667]\n",
            "Model accuracy of KNN is 0.7505376344086022\n",
            "[0.87096774 0.93548387 0.93333333 0.8        0.83333333]\n",
            "Model accuracy of Random Forest is 0.8746236559139785\n"
          ],
          "name": "stdout"
        }
      ]
    },
    {
      "cell_type": "markdown",
      "metadata": {
        "id": "_k6Bq2koWkXy"
      },
      "source": [
        "# Part III: Hyperparameter Tune"
      ]
    },
    {
      "cell_type": "code",
      "metadata": {
        "id": "ScnYAMHFWbe1"
      },
      "source": [
        "from sklearn.model_selection import GridSearchCV\n",
        "\n",
        "# helper function for printing out grid search results \n",
        "def print_grid_search_metrics(gs):\n",
        "    print (\"Best score: \" + str(gs.best_score_))\n",
        "    print (\"Best parameters set:\")\n",
        "    best_parameters = gs.best_params_\n",
        "    for param_name in sorted(best_parameters.keys()):\n",
        "        print(param_name + ':' + str(best_parameters[param_name]))"
      ],
      "execution_count": null,
      "outputs": []
    },
    {
      "cell_type": "markdown",
      "metadata": {
        "id": "YKEzShdfWw8y"
      },
      "source": [
        "## Part III.1: Random Forest"
      ]
    },
    {
      "cell_type": "code",
      "metadata": {
        "id": "d1Fe2xvGWwIW",
        "colab": {
          "base_uri": "https://localhost:8080/",
          "height": 357
        },
        "outputId": "d7c37c55-a530-4e7b-a3c5-8bbfc27760a5"
      },
      "source": [
        "parameters = {\n",
        "    'n_estimators' : [35,40,45,50,55,59,60,61,80]\n",
        "}\n",
        "Grid_RF = GridSearchCV(RandomForestClassifier(),parameters, cv=5)\n",
        "Grid_RF.fit(X_train, y_train)"
      ],
      "execution_count": null,
      "outputs": [
        {
          "output_type": "execute_result",
          "data": {
            "text/plain": [
              "GridSearchCV(cv=5, error_score=nan,\n",
              "             estimator=RandomForestClassifier(bootstrap=True, ccp_alpha=0.0,\n",
              "                                              class_weight=None,\n",
              "                                              criterion='gini', max_depth=None,\n",
              "                                              max_features='auto',\n",
              "                                              max_leaf_nodes=None,\n",
              "                                              max_samples=None,\n",
              "                                              min_impurity_decrease=0.0,\n",
              "                                              min_impurity_split=None,\n",
              "                                              min_samples_leaf=1,\n",
              "                                              min_samples_split=2,\n",
              "                                              min_weight_fraction_leaf=0.0,\n",
              "                                              n_estimators=100, n_jobs=None,\n",
              "                                              oob_score=False,\n",
              "                                              random_state=None, verbose=0,\n",
              "                                              warm_start=False),\n",
              "             iid='deprecated', n_jobs=None,\n",
              "             param_grid={'n_estimators': [35, 40, 45, 50, 55, 59, 60, 61, 80]},\n",
              "             pre_dispatch='2*n_jobs', refit=True, return_train_score=False,\n",
              "             scoring=None, verbose=0)"
            ]
          },
          "metadata": {
            "tags": []
          },
          "execution_count": 53
        }
      ]
    },
    {
      "cell_type": "code",
      "metadata": {
        "id": "2d5vJwUmXGoV",
        "colab": {
          "base_uri": "https://localhost:8080/",
          "height": 68
        },
        "outputId": "18627e2d-5c4e-4eb6-f0e3-e5cf359a9d85"
      },
      "source": [
        "print_grid_search_metrics(Grid_RF)"
      ],
      "execution_count": null,
      "outputs": [
        {
          "output_type": "stream",
          "text": [
            "Best score: 0.8748387096774193\n",
            "Best parameters set:\n",
            "n_estimators:55\n"
          ],
          "name": "stdout"
        }
      ]
    },
    {
      "cell_type": "code",
      "metadata": {
        "id": "uherAxJhXKM3",
        "colab": {
          "base_uri": "https://localhost:8080/",
          "height": 153
        },
        "outputId": "34760195-2b39-4519-c607-48bfec61987a"
      },
      "source": [
        "# best random forest\n",
        "best_RF_model = Grid_RF.best_estimator_\n",
        "print (best_RF_model)"
      ],
      "execution_count": null,
      "outputs": [
        {
          "output_type": "stream",
          "text": [
            "RandomForestClassifier(bootstrap=True, ccp_alpha=0.0, class_weight=None,\n",
            "                       criterion='gini', max_depth=None, max_features='auto',\n",
            "                       max_leaf_nodes=None, max_samples=None,\n",
            "                       min_impurity_decrease=0.0, min_impurity_split=None,\n",
            "                       min_samples_leaf=1, min_samples_split=2,\n",
            "                       min_weight_fraction_leaf=0.0, n_estimators=55,\n",
            "                       n_jobs=None, oob_score=False, random_state=None,\n",
            "                       verbose=0, warm_start=False)\n"
          ],
          "name": "stdout"
        }
      ]
    },
    {
      "cell_type": "markdown",
      "metadata": {
        "id": "6TRcKAWjX18O"
      },
      "source": [
        "## Part III.2: Logistic Regression"
      ]
    },
    {
      "cell_type": "code",
      "metadata": {
        "id": "r8bvJO_9XWVO",
        "colab": {
          "base_uri": "https://localhost:8080/",
          "height": 255
        },
        "outputId": "5f9f566f-60cd-48ea-85cb-a166d21211e6"
      },
      "source": [
        "parameters = {\n",
        "    'penalty':('l1', 'l2'), \n",
        "    'C':(0.01,0.03,0.05,0.06,0.07,1, 5, 10)\n",
        "}\n",
        "Grid_LR = GridSearchCV(LogisticRegression(solver='liblinear'),parameters, cv=5) \n",
        "Grid_LR.fit(X_train, y_train)"
      ],
      "execution_count": null,
      "outputs": [
        {
          "output_type": "execute_result",
          "data": {
            "text/plain": [
              "GridSearchCV(cv=5, error_score=nan,\n",
              "             estimator=LogisticRegression(C=1.0, class_weight=None, dual=False,\n",
              "                                          fit_intercept=True,\n",
              "                                          intercept_scaling=1, l1_ratio=None,\n",
              "                                          max_iter=100, multi_class='auto',\n",
              "                                          n_jobs=None, penalty='l2',\n",
              "                                          random_state=None, solver='liblinear',\n",
              "                                          tol=0.0001, verbose=0,\n",
              "                                          warm_start=False),\n",
              "             iid='deprecated', n_jobs=None,\n",
              "             param_grid={'C': (0.01, 0.03, 0.05, 0.06, 0.07, 1, 5, 10),\n",
              "                         'penalty': ('l1', 'l2')},\n",
              "             pre_dispatch='2*n_jobs', refit=True, return_train_score=False,\n",
              "             scoring=None, verbose=0)"
            ]
          },
          "metadata": {
            "tags": []
          },
          "execution_count": 56
        }
      ]
    },
    {
      "cell_type": "code",
      "metadata": {
        "id": "xauzGRMGYi9y",
        "colab": {
          "base_uri": "https://localhost:8080/",
          "height": 85
        },
        "outputId": "5f1cee9b-73e5-4b4b-8ce9-e0277c9e32d7"
      },
      "source": [
        "print_grid_search_metrics(Grid_LR)"
      ],
      "execution_count": null,
      "outputs": [
        {
          "output_type": "stream",
          "text": [
            "Best score: 0.8619354838709677\n",
            "Best parameters set:\n",
            "C:1\n",
            "penalty:l1\n"
          ],
          "name": "stdout"
        }
      ]
    },
    {
      "cell_type": "code",
      "metadata": {
        "id": "A2NhRmURYlb3",
        "colab": {
          "base_uri": "https://localhost:8080/",
          "height": 102
        },
        "outputId": "11fc310d-18a9-44d4-9e39-79d0ed402b2c"
      },
      "source": [
        "best_LR_model = Grid_LR.best_estimator_\n",
        "print (best_LR_model)"
      ],
      "execution_count": null,
      "outputs": [
        {
          "output_type": "stream",
          "text": [
            "LogisticRegression(C=1, class_weight=None, dual=False, fit_intercept=True,\n",
            "                   intercept_scaling=1, l1_ratio=None, max_iter=100,\n",
            "                   multi_class='auto', n_jobs=None, penalty='l1',\n",
            "                   random_state=None, solver='liblinear', tol=0.0001, verbose=0,\n",
            "                   warm_start=False)\n"
          ],
          "name": "stdout"
        }
      ]
    },
    {
      "cell_type": "markdown",
      "metadata": {
        "id": "YNeJaxskY19a"
      },
      "source": [
        "# Part IV: Model Evaluation \n",
        "\n",
        "\n",
        "*   Accuracy\n",
        "*   Precision\n",
        "*   Recall\n",
        "*   ROC/AUC \n",
        "\n"
      ]
    },
    {
      "cell_type": "markdown",
      "metadata": {
        "id": "nxP03zrTbPJz"
      },
      "source": [
        "## Part IV.1: Confusion Matrix"
      ]
    },
    {
      "cell_type": "code",
      "metadata": {
        "id": "pgtccRqqZ-7X"
      },
      "source": [
        "from sklearn.metrics import confusion_matrix\n",
        "from sklearn.metrics import classification_report\n",
        "from sklearn.metrics import precision_score\n",
        "from sklearn.metrics import recall_score\n",
        "\n",
        "# calculate accuracy, precision and recall, [[tn, fp],[]]\n",
        "def cal_evaluation(classifier, cm): # cm = confusion matrix\n",
        "    tn = cm[0][0]\n",
        "    fp = cm[0][1]\n",
        "    fn = cm[1][0]\n",
        "    tp = cm[1][1]\n",
        "    accuracy  = (tp + tn) / (tp + fp + fn + tn + 0.0)\n",
        "    precision = tp / (tp + fp + 0.0)\n",
        "    recall = tp / (tp + fn + 0.0)\n",
        "    print (classifier)\n",
        "    print (\"Accuracy is: \" + str(accuracy))\n",
        "    print (\"precision is: \" + str(precision))\n",
        "    print (\"recall is: \" + str(recall))\n",
        "    print ()\n",
        "\n",
        "# print out confusion matrices\n",
        "def draw_confusion_matrices(confusion_matricies):\n",
        "    class_names = ['Not','Death']\n",
        "    for cm in confusion_matrices:\n",
        "        classifier, cm = cm[0], cm[1]\n",
        "        cal_evaluation(classifier, cm)"
      ],
      "execution_count": null,
      "outputs": []
    },
    {
      "cell_type": "code",
      "metadata": {
        "id": "ht6gr94naGMA",
        "colab": {
          "base_uri": "https://localhost:8080/",
          "height": 187
        },
        "outputId": "129599bc-e43d-46ab-c716-46a5128e6e26"
      },
      "source": [
        "# Confusion matrix, accuracy, precison and recall for random forest and logistic regression\n",
        "confusion_matrices = [\n",
        "    (\"Random Forest\", confusion_matrix(y_test,best_RF_model.predict(X_test))), \n",
        "    (\"Logistic Regression\", confusion_matrix(y_test,best_LR_model.predict(X_test))),\n",
        "]\n",
        "\n",
        "draw_confusion_matrices(confusion_matrices)"
      ],
      "execution_count": null,
      "outputs": [
        {
          "output_type": "stream",
          "text": [
            "Random Forest\n",
            "Accuracy is: 0.8823529411764706\n",
            "precision is: 0.7857142857142857\n",
            "recall is: 0.7857142857142857\n",
            "\n",
            "Logistic Regression\n",
            "Accuracy is: 0.8627450980392157\n",
            "precision is: 0.7692307692307693\n",
            "recall is: 0.7142857142857143\n",
            "\n"
          ],
          "name": "stdout"
        }
      ]
    },
    {
      "cell_type": "markdown",
      "metadata": {
        "id": "U45-gxYybZmf"
      },
      "source": [
        "## Part IV.1: ROC/AUC"
      ]
    },
    {
      "cell_type": "code",
      "metadata": {
        "id": "QQ_dnkr4aMLp"
      },
      "source": [
        "from sklearn.metrics import roc_curve\n",
        "from sklearn import metrics"
      ],
      "execution_count": null,
      "outputs": []
    },
    {
      "cell_type": "markdown",
      "metadata": {
        "id": "qdXcMSnybk6F"
      },
      "source": [
        "### RF: ROC AUC"
      ]
    },
    {
      "cell_type": "code",
      "metadata": {
        "id": "xQb22IKva3PV"
      },
      "source": [
        "# RF\n",
        "# Use predict_proba to get the probability results of Random Forest\n",
        "y_pred_rf = best_RF_model.predict_proba(X_test)[:, 1] # this is to get y_pred churning probablity \n",
        "fpr_rf, tpr_rf, thresh = roc_curve(y_test, y_pred_rf)"
      ],
      "execution_count": null,
      "outputs": []
    },
    {
      "cell_type": "code",
      "metadata": {
        "id": "mkGjTDENbEnF",
        "colab": {
          "base_uri": "https://localhost:8080/",
          "height": 295
        },
        "outputId": "58dc521b-95eb-4cc8-9882-0a3898444afa"
      },
      "source": [
        "# ROC curve of Random Forest result\n",
        "plt.figure(1) # number identifier\n",
        "plt.plot([0, 1], [0, 1], 'k--') # k -> black color, -- line style\n",
        "plt.plot(fpr_rf, tpr_rf, label='RF')\n",
        "plt.xlabel('False positive rate')\n",
        "plt.ylabel('True positive rate')\n",
        "plt.title('ROC curve - RF model')\n",
        "plt.legend(loc='best') # legend location, 'best' default\n",
        "plt.show()"
      ],
      "execution_count": null,
      "outputs": [
        {
          "output_type": "display_data",
          "data": {
            "image/png": "[encoded data removed]",
            "text/plain": [
              "<Figure size 432x288 with 1 Axes>"
            ]
          },
          "metadata": {
            "tags": [],
            "needs_background": "light"
          }
        }
      ]
    },
    {
      "cell_type": "code",
      "metadata": {
        "id": "f2EWddNGbGtX",
        "colab": {
          "base_uri": "https://localhost:8080/",
          "height": 34
        },
        "outputId": "4160882f-f90c-45ca-dc2f-192ba484a42b"
      },
      "source": [
        "# AUC score\n",
        "metrics.auc(fpr_rf,tpr_rf)"
      ],
      "execution_count": null,
      "outputs": [
        {
          "output_type": "execute_result",
          "data": {
            "text/plain": [
              "0.9343629343629344"
            ]
          },
          "metadata": {
            "tags": []
          },
          "execution_count": 64
        }
      ]
    },
    {
      "cell_type": "markdown",
      "metadata": {
        "id": "42cOUv5pbuGh"
      },
      "source": [
        "### LR: ROC AUC"
      ]
    },
    {
      "cell_type": "code",
      "metadata": {
        "id": "K-znIZJkbJBW"
      },
      "source": [
        "# Use predict_proba to get the probability results of Logistic Regression\n",
        "y_pred_lr = best_LR_model.predict_proba(X_test)[:, 1]\n",
        "fpr_lr, tpr_lr, thresh = roc_curve(y_test, y_pred_lr)"
      ],
      "execution_count": null,
      "outputs": []
    },
    {
      "cell_type": "code",
      "metadata": {
        "id": "JMIKnuUAb1JX",
        "colab": {
          "base_uri": "https://localhost:8080/",
          "height": 295
        },
        "outputId": "8c157d1e-87dc-4028-8da5-31ce3a30e321"
      },
      "source": [
        "# ROC Curve\n",
        "plt.figure(1)\n",
        "plt.plot([0, 1], [0, 1], 'k--')\n",
        "plt.plot(fpr_lr, tpr_lr, label='LR')\n",
        "plt.xlabel('False positive rate')\n",
        "plt.ylabel('True positive rate')\n",
        "plt.title('ROC curve - LR Model')\n",
        "plt.legend(loc='best')\n",
        "plt.show()"
      ],
      "execution_count": null,
      "outputs": [
        {
          "output_type": "display_data",
          "data": {
            "image/png": "[encoded data removed]",
            "text/plain": [
              "<Figure size 432x288 with 1 Axes>"
            ]
          },
          "metadata": {
            "tags": [],
            "needs_background": "light"
          }
        }
      ]
    },
    {
      "cell_type": "code",
      "metadata": {
        "id": "kiMd5ID8b3Lk",
        "colab": {
          "base_uri": "https://localhost:8080/",
          "height": 34
        },
        "outputId": "b3c490e6-a1d6-49ff-ca48-adea5f563155"
      },
      "source": [
        "# AUC score\n",
        "metrics.auc(fpr_lr,tpr_lr)"
      ],
      "execution_count": null,
      "outputs": [
        {
          "output_type": "execute_result",
          "data": {
            "text/plain": [
              "0.9382239382239383"
            ]
          },
          "metadata": {
            "tags": []
          },
          "execution_count": 67
        }
      ]
    },
    {
      "cell_type": "markdown",
      "metadata": {
        "id": "UmgO0_ATcIIZ"
      },
      "source": [
        "# Part V: Feature Selection"
      ]
    },
    {
      "cell_type": "code",
      "metadata": {
        "id": "a-snD3TIdzPg"
      },
      "source": [
        "import numpy as np"
      ],
      "execution_count": null,
      "outputs": []
    },
    {
      "cell_type": "markdown",
      "metadata": {
        "id": "zHND6VSzcXWH"
      },
      "source": [
        "## Based on RF"
      ]
    },
    {
      "cell_type": "code",
      "metadata": {
        "id": "e6MOug4HcM4o",
        "colab": {
          "base_uri": "https://localhost:8080/",
          "height": 238
        },
        "outputId": "f227e677-3257-43cd-ace3-8a954674e5f1"
      },
      "source": [
        "# check feature importance of random forest for feature selection\n",
        "forest = RandomForestClassifier(n_estimators=80)\n",
        "forest.fit(X, y)\n",
        "\n",
        "importances = forest.feature_importances_\n",
        "\n",
        "indices = np.argsort(importances)[::-1]\n",
        "# array([ 2,  8,  0,  4,  5,  3,  7, 10,  1,  6,  9, 11])\n",
        "\n",
        "# Print the feature ranking\n",
        "print(\"Feature importance ranking by Random Forest Model:\")\n",
        "for ind in range(X.shape[1]):\n",
        "  print (\"{0} : {1}\".format(X.columns[indices[ind]],round(importances[indices[ind]], 4)))"
      ],
      "execution_count": null,
      "outputs": [
        {
          "output_type": "stream",
          "text": [
            "Feature importance ranking by Random Forest Model:\n",
            "time : 0.4081\n",
            "ejection_fraction : 0.1365\n",
            "age : 0.1191\n",
            "serum_creatinine : 0.1034\n",
            "platelets : 0.073\n",
            "creatinine_phosphokinase : 0.0585\n",
            "serum_sodium : 0.0431\n",
            "smoking : 0.0145\n",
            "high_blood_pressure : 0.0128\n",
            "diabetes : 0.0116\n",
            "anaemia : 0.0113\n",
            "sex : 0.0082\n"
          ],
          "name": "stdout"
        }
      ]
    },
    {
      "cell_type": "markdown",
      "metadata": {
        "id": "GTpnIboAehOX"
      },
      "source": [
        "## Based on LR"
      ]
    },
    {
      "cell_type": "code",
      "metadata": {
        "id": "H-kFuzRXdxqR",
        "colab": {
          "base_uri": "https://localhost:8080/",
          "height": 68
        },
        "outputId": "b098e3c6-6b60-4940-d3a8-fd26ab8add4b"
      },
      "source": [
        "#see the proportions of DEATH_EVENT = 0 and =1 in the dataset\n",
        "prop = health_df.DEATH_EVENT.value_counts(1)\n",
        "print(\"The percentage of DEATH_EVENT=1 in the dataset is \" + str(prop[1]*100))\n",
        "print(\"The percentage of DEATH_EVENT=0 in the dataset is \" + str(prop[0]*100))\n",
        "print(\"Since the proportion of DEATH_EVENT=1 is larger than 5%, we can use Logistic Regression model to predict DEATH_EVENT.\")"
      ],
      "execution_count": null,
      "outputs": [
        {
          "output_type": "stream",
          "text": [
            "The percentage of DEATH_EVENT=1 in the dataset is 27.586206896551722\n",
            "The percentage of DEATH_EVENT=0 in the dataset is 72.41379310344827\n",
            "Since the proportion of DEATH_EVENT=1 is larger than 5%, we can use Logistic Regression model to predict DEATH_EVENT.\n"
          ],
          "name": "stdout"
        }
      ]
    },
    {
      "cell_type": "code",
      "metadata": {
        "id": "nrOH8u94enVM",
        "colab": {
          "base_uri": "https://localhost:8080/",
          "height": 162
        },
        "outputId": "55546d1e-107c-4978-cb45-baa6674d065d"
      },
      "source": [
        "summary = health_df.groupby(\"DEATH_EVENT\")\n",
        "group = summary.mean()\n",
        "group"
      ],
      "execution_count": null,
      "outputs": [
        {
          "output_type": "execute_result",
          "data": {
            "text/html": [
              "<div>\n",
              "<style scoped>\n",
              "    .dataframe tbody tr th:only-of-type {\n",
              "        vertical-align: middle;\n",
              "    }\n",
              "\n",
              "    .dataframe tbody tr th {\n",
              "        vertical-align: top;\n",
              "    }\n",
              "\n",
              "    .dataframe thead th {\n",
              "        text-align: right;\n",
              "    }\n",
              "</style>\n",
              "<table border=\"1\" class=\"dataframe\">\n",
              "  <thead>\n",
              "    <tr style=\"text-align: right;\">\n",
              "      <th></th>\n",
              "      <th>age</th>\n",
              "      <th>anaemia</th>\n",
              "      <th>creatinine_phosphokinase</th>\n",
              "      <th>diabetes</th>\n",
              "      <th>ejection_fraction</th>\n",
              "      <th>high_blood_pressure</th>\n",
              "      <th>platelets</th>\n",
              "      <th>serum_creatinine</th>\n",
              "      <th>serum_sodium</th>\n",
              "      <th>sex</th>\n",
              "      <th>smoking</th>\n",
              "      <th>time</th>\n",
              "    </tr>\n",
              "    <tr>\n",
              "      <th>DEATH_EVENT</th>\n",
              "      <th></th>\n",
              "      <th></th>\n",
              "      <th></th>\n",
              "      <th></th>\n",
              "      <th></th>\n",
              "      <th></th>\n",
              "      <th></th>\n",
              "      <th></th>\n",
              "      <th></th>\n",
              "      <th></th>\n",
              "      <th></th>\n",
              "      <th></th>\n",
              "    </tr>\n",
              "  </thead>\n",
              "  <tbody>\n",
              "    <tr>\n",
              "      <th>0</th>\n",
              "      <td>58.426306</td>\n",
              "      <td>0.448980</td>\n",
              "      <td>333.659864</td>\n",
              "      <td>0.435374</td>\n",
              "      <td>40.564626</td>\n",
              "      <td>0.353741</td>\n",
              "      <td>258520.954422</td>\n",
              "      <td>1.059252</td>\n",
              "      <td>137.251701</td>\n",
              "      <td>0.646259</td>\n",
              "      <td>0.306122</td>\n",
              "      <td>158.129252</td>\n",
              "    </tr>\n",
              "    <tr>\n",
              "      <th>1</th>\n",
              "      <td>66.607143</td>\n",
              "      <td>0.517857</td>\n",
              "      <td>364.053571</td>\n",
              "      <td>0.392857</td>\n",
              "      <td>32.142857</td>\n",
              "      <td>0.446429</td>\n",
              "      <td>247866.182321</td>\n",
              "      <td>1.315714</td>\n",
              "      <td>136.482143</td>\n",
              "      <td>0.714286</td>\n",
              "      <td>0.392857</td>\n",
              "      <td>63.857143</td>\n",
              "    </tr>\n",
              "  </tbody>\n",
              "</table>\n",
              "</div>"
            ],
            "text/plain": [
              "                   age   anaemia  ...   smoking        time\n",
              "DEATH_EVENT                       ...                      \n",
              "0            58.426306  0.448980  ...  0.306122  158.129252\n",
              "1            66.607143  0.517857  ...  0.392857   63.857143\n",
              "\n",
              "[2 rows x 12 columns]"
            ]
          },
          "metadata": {
            "tags": []
          },
          "execution_count": 72
        }
      ]
    },
    {
      "cell_type": "code",
      "metadata": {
        "id": "SQaEhDHmeu0W",
        "colab": {
          "base_uri": "https://localhost:8080/",
          "height": 238
        },
        "outputId": "177e0caa-4ed5-48d0-b66e-c79edbdcc47f"
      },
      "source": [
        "group.iloc[1] > group.iloc[0]"
      ],
      "execution_count": null,
      "outputs": [
        {
          "output_type": "execute_result",
          "data": {
            "text/plain": [
              "age                          True\n",
              "anaemia                      True\n",
              "creatinine_phosphokinase     True\n",
              "diabetes                    False\n",
              "ejection_fraction           False\n",
              "high_blood_pressure          True\n",
              "platelets                   False\n",
              "serum_creatinine             True\n",
              "serum_sodium                False\n",
              "sex                          True\n",
              "smoking                      True\n",
              "time                        False\n",
              "dtype: bool"
            ]
          },
          "metadata": {
            "tags": []
          },
          "execution_count": 73
        }
      ]
    },
    {
      "cell_type": "markdown",
      "metadata": {
        "id": "_1lVeK4je2Wv"
      },
      "source": [
        "From the grouping, we can see that age, anaemia, creatinine_phosphokinase, diabetes, high_blood_pressure, serum_creatinine, sex, and smoking have higher mean values when DEATH_EVENT = 1, meaning that they may more correlated with death due to heart failure."
      ]
    },
    {
      "cell_type": "code",
      "metadata": {
        "id": "HYkAi3cZezW9",
        "colab": {
          "base_uri": "https://localhost:8080/",
          "height": 452
        },
        "outputId": "3af8dd9d-224d-49d7-b7c3-21d9c889592a"
      },
      "source": [
        "#Find the correlation between DEATH_EVENT and other variables and sort in descending order.\n",
        "health_df.corr()[['DEATH_EVENT']].sort_values('DEATH_EVENT',ascending=False)"
      ],
      "execution_count": null,
      "outputs": [
        {
          "output_type": "execute_result",
          "data": {
            "text/html": [
              "<div>\n",
              "<style scoped>\n",
              "    .dataframe tbody tr th:only-of-type {\n",
              "        vertical-align: middle;\n",
              "    }\n",
              "\n",
              "    .dataframe tbody tr th {\n",
              "        vertical-align: top;\n",
              "    }\n",
              "\n",
              "    .dataframe thead th {\n",
              "        text-align: right;\n",
              "    }\n",
              "</style>\n",
              "<table border=\"1\" class=\"dataframe\">\n",
              "  <thead>\n",
              "    <tr style=\"text-align: right;\">\n",
              "      <th></th>\n",
              "      <th>DEATH_EVENT</th>\n",
              "    </tr>\n",
              "  </thead>\n",
              "  <tbody>\n",
              "    <tr>\n",
              "      <th>DEATH_EVENT</th>\n",
              "      <td>1.000000</td>\n",
              "    </tr>\n",
              "    <tr>\n",
              "      <th>serum_creatinine</th>\n",
              "      <td>0.347465</td>\n",
              "    </tr>\n",
              "    <tr>\n",
              "      <th>age</th>\n",
              "      <td>0.309057</td>\n",
              "    </tr>\n",
              "    <tr>\n",
              "      <th>high_blood_pressure</th>\n",
              "      <td>0.085377</td>\n",
              "    </tr>\n",
              "    <tr>\n",
              "      <th>smoking</th>\n",
              "      <td>0.082440</td>\n",
              "    </tr>\n",
              "    <tr>\n",
              "      <th>sex</th>\n",
              "      <td>0.064419</td>\n",
              "    </tr>\n",
              "    <tr>\n",
              "      <th>anaemia</th>\n",
              "      <td>0.061696</td>\n",
              "    </tr>\n",
              "    <tr>\n",
              "      <th>creatinine_phosphokinase</th>\n",
              "      <td>0.048073</td>\n",
              "    </tr>\n",
              "    <tr>\n",
              "      <th>diabetes</th>\n",
              "      <td>-0.038457</td>\n",
              "    </tr>\n",
              "    <tr>\n",
              "      <th>platelets</th>\n",
              "      <td>-0.072951</td>\n",
              "    </tr>\n",
              "    <tr>\n",
              "      <th>serum_sodium</th>\n",
              "      <td>-0.090109</td>\n",
              "    </tr>\n",
              "    <tr>\n",
              "      <th>ejection_fraction</th>\n",
              "      <td>-0.319866</td>\n",
              "    </tr>\n",
              "    <tr>\n",
              "      <th>time</th>\n",
              "      <td>-0.552816</td>\n",
              "    </tr>\n",
              "  </tbody>\n",
              "</table>\n",
              "</div>"
            ],
            "text/plain": [
              "                          DEATH_EVENT\n",
              "DEATH_EVENT                  1.000000\n",
              "serum_creatinine             0.347465\n",
              "age                          0.309057\n",
              "high_blood_pressure          0.085377\n",
              "smoking                      0.082440\n",
              "sex                          0.064419\n",
              "anaemia                      0.061696\n",
              "creatinine_phosphokinase     0.048073\n",
              "diabetes                    -0.038457\n",
              "platelets                   -0.072951\n",
              "serum_sodium                -0.090109\n",
              "ejection_fraction           -0.319866\n",
              "time                        -0.552816"
            ]
          },
          "metadata": {
            "tags": []
          },
          "execution_count": 70
        }
      ]
    },
    {
      "cell_type": "code",
      "metadata": {
        "id": "ojtqdEIAe5Ox",
        "colab": {
          "base_uri": "https://localhost:8080/",
          "height": 406
        },
        "outputId": "5e33974e-d174-4ce1-898e-67388fbad12f"
      },
      "source": [
        "q1 = ['DEATH_EVENT','serum_creatinine', 'age', 'high_blood_pressure', 'creatinine_phosphokinase', 'anaemia', 'time', 'ejection_fraction', 'serum_sodium', 'platelets']\n",
        "sns.heatmap(health_df[q1].corr())"
      ],
      "execution_count": null,
      "outputs": [
        {
          "output_type": "execute_result",
          "data": {
            "text/plain": [
              "<matplotlib.axes._subplots.AxesSubplot at 0x7fa694e2e780>"
            ]
          },
          "metadata": {
            "tags": []
          },
          "execution_count": 74
        },
        {
          "output_type": "display_data",
          "data": {
            "image/png": "[encoded data removed]",
            "text/plain": [
              "<Figure size 432x288 with 2 Axes>"
            ]
          },
          "metadata": {
            "tags": [],
            "needs_background": "light"
          }
        }
      ]
    },
    {
      "cell_type": "markdown",
      "metadata": {
        "id": "H8yiAhPzfZnE"
      },
      "source": [
        "We can see that serum_creatinine, age, high_blood_pressure, creatinine_phosphokinase, and anaemia are more positively related to the death due to heart failure. Time, ejection_fraction, serum_sodium, platelets are more negatively related to the death."
      ]
    },
    {
      "cell_type": "code",
      "metadata": {
        "id": "x3V0JJq6fWrn"
      },
      "source": [
        "#Logsitic Regression\n",
        "#Test1: Choose serum_creatinine and age as independent variables\n",
        "y = health_df['DEATH_EVENT']\n",
        "x = health_df[['serum_creatinine', 'age']]\n",
        "#Test2: Add high_blood_pressure, creatinine_phosphokinase, anaemia as independent variables\n",
        "x2 = health_df[['serum_creatinine', 'age', 'high_blood_pressure', 'creatinine_phosphokinase', 'anaemia']]\n",
        "#test3\n",
        "x3=x2\n",
        "#test4: \n",
        "x4 = health_df[['time', 'ejection_fraction', 'serum_sodium']]\n",
        "#test5\n",
        "x5 = health_df[['serum_creatinine', 'age','time', 'ejection_fraction', 'serum_sodium']]\n",
        "#test6:\n",
        "x6 = health_df[['serum_creatinine', 'age','time', 'ejection_fraction', 'serum_sodium','high_blood_pressure']]"
      ],
      "execution_count": null,
      "outputs": []
    },
    {
      "cell_type": "code",
      "metadata": {
        "id": "-UgoBatqgcIM"
      },
      "source": [
        "from sklearn.model_selection import train_test_split\n",
        "#test1\n",
        "x_train,x_test,y_train,y_test=train_test_split(x,y,test_size=0.3,random_state=100)"
      ],
      "execution_count": null,
      "outputs": []
    },
    {
      "cell_type": "code",
      "metadata": {
        "id": "UcPwsi4OhujS"
      },
      "source": [
        "#test2\n",
        "x_train,x_test,y_train,y_test=train_test_split(x2,y,test_size=0.3,random_state=100)"
      ],
      "execution_count": null,
      "outputs": []
    },
    {
      "cell_type": "code",
      "metadata": {
        "id": "BNaG1nusjHKQ"
      },
      "source": [
        "#test3: split the testing and training sets into half-half\n",
        "x_train,x_test,y_train,y_test=train_test_split(x3,y,test_size=0.5,random_state=100)"
      ],
      "execution_count": null,
      "outputs": []
    },
    {
      "cell_type": "code",
      "metadata": {
        "id": "CwpM-RQojvcN"
      },
      "source": [
        "#test4\n",
        "x_train,x_test,y_train,y_test=train_test_split(x4,y,test_size=0.3,random_state=100)"
      ],
      "execution_count": null,
      "outputs": []
    },
    {
      "cell_type": "code",
      "metadata": {
        "id": "PBavNgFxj9R8"
      },
      "source": [
        "#test5: \n",
        "x_train,x_test,y_train,y_test=train_test_split(x5,y,test_size=0.3,random_state=100)"
      ],
      "execution_count": null,
      "outputs": []
    },
    {
      "cell_type": "code",
      "metadata": {
        "id": "KYGP1W1D1m3j"
      },
      "source": [
        "#test6:\n",
        "x_train,x_test,y_train,y_test=train_test_split(x6,y,test_size=0.3,random_state=100)"
      ],
      "execution_count": null,
      "outputs": []
    },
    {
      "cell_type": "code",
      "metadata": {
        "id": "ZStXT-YDgHwM"
      },
      "source": [
        "from sklearn import linear_model\n",
        "lr=linear_model.LogisticRegression()\n",
        "#fit the model\n",
        "lr.fit(x_train,y_train)\n",
        "y_pred_train=lr.predict(x_train)\n",
        "y_pred_test=lr.predict(x_test)"
      ],
      "execution_count": null,
      "outputs": []
    },
    {
      "cell_type": "code",
      "metadata": {
        "id": "uS67mMjZggXy",
        "colab": {
          "base_uri": "https://localhost:8080/",
          "height": 85
        },
        "outputId": "a4bb6e99-18cf-475b-9ee6-bb74a80e1734"
      },
      "source": [
        "#test 1\n",
        "import sklearn.metrics as metrics\n",
        "\"\"\"cm = metrics.confusion_matrix(y_train,y_pred_train)\n",
        "tn = cm[0][0]\n",
        "fp = cm[0][1]\n",
        "fn = cm[1][0]\n",
        "tp = cm[1][1]\n",
        "accuracy  = (tp + tn) / (tp + fp + fn + tn + 0.0)\n",
        "print (accuracy)\"\"\"\n",
        "print (metrics.confusion_matrix(y_train,y_pred_train))\n",
        "print(metrics.accuracy_score(y_train,y_pred_train))\n",
        "\n",
        "metrics.confusion_matrix(y_test,y_pred_test)\n",
        "print(metrics.accuracy_score(y_test,y_pred_test))"
      ],
      "execution_count": null,
      "outputs": [
        {
          "output_type": "stream",
          "text": [
            "[[94  7]\n",
            " [28 13]]\n",
            "0.7535211267605634\n",
            "0.8032786885245902\n"
          ],
          "name": "stdout"
        }
      ]
    },
    {
      "cell_type": "code",
      "metadata": {
        "id": "Gbj7BNvUfh5D",
        "colab": {
          "base_uri": "https://localhost:8080/",
          "height": 51
        },
        "outputId": "f463b3e4-5fe9-41d2-d554-9f539b1f7984"
      },
      "source": [
        "#test2\n",
        "metrics.confusion_matrix(y_train,y_pred_train)\n",
        "print(metrics.accuracy_score(y_train,y_pred_train))\n",
        "\n",
        "metrics.confusion_matrix(y_test,y_pred_test)\n",
        "print(metrics.accuracy_score(y_test,y_pred_test))"
      ],
      "execution_count": null,
      "outputs": [
        {
          "output_type": "stream",
          "text": [
            "0.7464788732394366\n",
            "0.819672131147541\n"
          ],
          "name": "stdout"
        }
      ]
    },
    {
      "cell_type": "code",
      "metadata": {
        "id": "reNTdwZbhztB",
        "colab": {
          "base_uri": "https://localhost:8080/",
          "height": 51
        },
        "outputId": "998b78a1-c30f-47cd-c178-486df969db1b"
      },
      "source": [
        "#test3\n",
        "metrics.confusion_matrix(y_train,y_pred_train)\n",
        "print(metrics.accuracy_score(y_train,y_pred_train))\n",
        "\n",
        "metrics.confusion_matrix(y_test,y_pred_test)\n",
        "print(metrics.accuracy_score(y_test,y_pred_test))"
      ],
      "execution_count": null,
      "outputs": [
        {
          "output_type": "stream",
          "text": [
            "0.7623762376237624\n",
            "0.7745098039215687\n"
          ],
          "name": "stdout"
        }
      ]
    },
    {
      "cell_type": "code",
      "metadata": {
        "id": "9DghijN_jKo4",
        "colab": {
          "base_uri": "https://localhost:8080/",
          "height": 51
        },
        "outputId": "870df65e-3bde-48a7-8d0e-3a9c6032efee"
      },
      "source": [
        "#test4\n",
        "metrics.confusion_matrix(y_train,y_pred_train)\n",
        "print(metrics.accuracy_score(y_train,y_pred_train))\n",
        "\n",
        "metrics.confusion_matrix(y_test,y_pred_test)\n",
        "print(metrics.accuracy_score(y_test,y_pred_test))"
      ],
      "execution_count": null,
      "outputs": [
        {
          "output_type": "stream",
          "text": [
            "0.823943661971831\n",
            "0.9016393442622951\n"
          ],
          "name": "stdout"
        }
      ]
    },
    {
      "cell_type": "code",
      "metadata": {
        "id": "r6Z-qtivj1iS",
        "colab": {
          "base_uri": "https://localhost:8080/",
          "height": 51
        },
        "outputId": "164d2480-789a-458a-8f46-6d8c564e472a"
      },
      "source": [
        "#test5\n",
        "metrics.confusion_matrix(y_train,y_pred_train)\n",
        "print(metrics.accuracy_score(y_train,y_pred_train))\n",
        "\n",
        "metrics.confusion_matrix(y_test,y_pred_test)\n",
        "print(metrics.accuracy_score(y_test,y_pred_test))"
      ],
      "execution_count": null,
      "outputs": [
        {
          "output_type": "stream",
          "text": [
            "0.8309859154929577\n",
            "0.9508196721311475\n"
          ],
          "name": "stdout"
        }
      ]
    },
    {
      "cell_type": "code",
      "metadata": {
        "id": "mi4lXRKKkByZ",
        "colab": {
          "base_uri": "https://localhost:8080/",
          "height": 51
        },
        "outputId": "473346dd-2b2c-476b-bdd4-66cced9a4822"
      },
      "source": [
        "#test6\n",
        "metrics.confusion_matrix(y_train,y_pred_train)\n",
        "print(metrics.accuracy_score(y_train,y_pred_train))\n",
        "\n",
        "metrics.confusion_matrix(y_test,y_pred_test)\n",
        "print(metrics.accuracy_score(y_test,y_pred_test))"
      ],
      "execution_count": null,
      "outputs": [
        {
          "output_type": "stream",
          "text": [
            "0.823943661971831\n",
            "0.9508196721311475\n"
          ],
          "name": "stdout"
        }
      ]
    },
    {
      "cell_type": "code",
      "metadata": {
        "id": "-p-r9m773yRj"
      },
      "source": [
        ""
      ],
      "execution_count": null,
      "outputs": []
    }
  ]
}